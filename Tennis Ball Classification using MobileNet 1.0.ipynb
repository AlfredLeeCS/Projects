{
 "cells": [
  {
   "cell_type": "markdown",
   "metadata": {},
   "source": [
    "Project Description : CV task to classifytennis ball using MXNet Framework API - Gluoncv. The CV task is trained using MobileNet 1.0 model (Transfer Learning model comprises of 1000 classes), which is a pre-trained on ImageNet."
   ]
  },
  {
   "cell_type": "markdown",
   "metadata": {},
   "source": [
    "### 1. Import Dependencies Library"
   ]
  },
  {
   "cell_type": "code",
   "execution_count": null,
   "metadata": {},
   "outputs": [],
   "source": [
    "import mxnet as mx\n",
    "import gluoncv as gcv\n",
    "import matplotlib.pyplot as plt\n",
    "import numpy as np\n",
    "import os\n",
    "from pathlib import Path"
   ]
  },
  {
   "cell_type": "markdown",
   "metadata": {},
   "source": [
    "##### Specify Image Location"
   ]
  },
  {
   "cell_type": "code",
   "execution_count": null,
   "metadata": {},
   "outputs": [],
   "source": [
    "M3_DATA = Path(os.getenv('DATA_DIR', '../../data'), 'module_3')\n",
    "M3_IMAGES = Path(M3_DATA, 'images')\n",
    "M3_MODELS = Path(M3_DATA, 'models')"
   ]
  },
  {
   "cell_type": "markdown",
   "metadata": {},
   "source": [
    "##### Loading an image "
   ]
  },
  {
   "cell_type": "code",
   "execution_count": null,
   "metadata": {},
   "outputs": [],
   "source": [
    "def load_image(filepath):\n",
    "    \n",
    "    return mx.image.imread(filepath)\n",
    "\n",
    "test_filepath = Path(M3_IMAGES, 'ben-hershey-VEW78A1YZ6I-unsplash.jpg')\n",
    "test_output = load_image(test_filepath)"
   ]
  },
  {
   "cell_type": "markdown",
   "metadata": {},
   "source": [
    "##### Transforming an image "
   ]
  },
  {
   "cell_type": "code",
   "execution_count": null,
   "metadata": {},
   "outputs": [],
   "source": [
    "def transform_image(array):\n",
    "    return gcv.data.transforms.presets.imagenet.transform_eval(array)\n",
    "\n",
    "transformed_test_output = transform_image(test_output)"
   ]
  },
  {
   "cell_type": "markdown",
   "metadata": {},
   "source": [
    "### 2. Load Model - MobileNet 1.0"
   ]
  },
  {
   "cell_type": "code",
   "execution_count": 1,
   "metadata": {},
   "outputs": [
    {
     "ename": "NameError",
     "evalue": "name 'gcv' is not defined",
     "output_type": "error",
     "traceback": [
      "\u001b[1;31m---------------------------------------------------------------------------\u001b[0m",
      "\u001b[1;31mNameError\u001b[0m                                 Traceback (most recent call last)",
      "\u001b[1;32m<ipython-input-1-20d38d58969f>\u001b[0m in \u001b[0;36m<module>\u001b[1;34m()\u001b[0m\n\u001b[0;32m      2\u001b[0m     \u001b[1;32mreturn\u001b[0m \u001b[0mgcv\u001b[0m\u001b[1;33m.\u001b[0m\u001b[0mmodel_zoo\u001b[0m\u001b[1;33m.\u001b[0m\u001b[0mget_model\u001b[0m\u001b[1;33m(\u001b[0m\u001b[1;34m'mobilenet1.0'\u001b[0m\u001b[1;33m,\u001b[0m \u001b[0mpretrained\u001b[0m\u001b[1;33m=\u001b[0m\u001b[1;32mTrue\u001b[0m\u001b[1;33m,\u001b[0m\u001b[0mroot\u001b[0m\u001b[1;33m=\u001b[0m\u001b[0mM3_MODELS\u001b[0m\u001b[1;33m)\u001b[0m\u001b[1;33m\u001b[0m\u001b[0m\n\u001b[0;32m      3\u001b[0m \u001b[1;33m\u001b[0m\u001b[0m\n\u001b[1;32m----> 4\u001b[1;33m \u001b[0mnetwork\u001b[0m \u001b[1;33m=\u001b[0m \u001b[0mload_pretrained_classification_network\u001b[0m\u001b[1;33m(\u001b[0m\u001b[1;33m)\u001b[0m\u001b[1;33m\u001b[0m\u001b[0m\n\u001b[0m",
      "\u001b[1;32m<ipython-input-1-20d38d58969f>\u001b[0m in \u001b[0;36mload_pretrained_classification_network\u001b[1;34m()\u001b[0m\n\u001b[0;32m      1\u001b[0m \u001b[1;32mdef\u001b[0m \u001b[0mload_pretrained_classification_network\u001b[0m\u001b[1;33m(\u001b[0m\u001b[1;33m)\u001b[0m\u001b[1;33m:\u001b[0m\u001b[1;33m\u001b[0m\u001b[0m\n\u001b[1;32m----> 2\u001b[1;33m     \u001b[1;32mreturn\u001b[0m \u001b[0mgcv\u001b[0m\u001b[1;33m.\u001b[0m\u001b[0mmodel_zoo\u001b[0m\u001b[1;33m.\u001b[0m\u001b[0mget_model\u001b[0m\u001b[1;33m(\u001b[0m\u001b[1;34m'mobilenet1.0'\u001b[0m\u001b[1;33m,\u001b[0m \u001b[0mpretrained\u001b[0m\u001b[1;33m=\u001b[0m\u001b[1;32mTrue\u001b[0m\u001b[1;33m,\u001b[0m\u001b[0mroot\u001b[0m\u001b[1;33m=\u001b[0m\u001b[0mM3_MODELS\u001b[0m\u001b[1;33m)\u001b[0m\u001b[1;33m\u001b[0m\u001b[0m\n\u001b[0m\u001b[0;32m      3\u001b[0m \u001b[1;33m\u001b[0m\u001b[0m\n\u001b[0;32m      4\u001b[0m \u001b[0mnetwork\u001b[0m \u001b[1;33m=\u001b[0m \u001b[0mload_pretrained_classification_network\u001b[0m\u001b[1;33m(\u001b[0m\u001b[1;33m)\u001b[0m\u001b[1;33m\u001b[0m\u001b[0m\n",
      "\u001b[1;31mNameError\u001b[0m: name 'gcv' is not defined"
     ]
    }
   ],
   "source": [
    "def load_pretrained_classification_network():\n",
    "    \n",
    "    return gcv.model_zoo.get_model('mobilenet1.0', pretrained=True,root=M3_MODELS)\n",
    "\n",
    "network = load_pretrained_classification_network()"
   ]
  },
  {
   "cell_type": "markdown",
   "metadata": {},
   "source": [
    "### 3. Model Training"
   ]
  },
  {
   "cell_type": "code",
   "execution_count": null,
   "metadata": {},
   "outputs": [],
   "source": [
    "def predict_probabilities(network, data):\n",
    "    \n",
    "    prediction = network(data)\n",
    "    prediction = prediction[0]\n",
    "    probability = mx.nd.softmax(prediction)\n",
    "    rounded_probability = mx.nd.round(probability*100)/100\n",
    "    \n",
    "    return rounded_probability\n",
    "\n",
    "pred_probas = predict_probabilities(network, transformed_test_output)"
   ]
  },
  {
   "cell_type": "markdown",
   "metadata": {},
   "source": [
    "##### Finding Label Class "
   ]
  },
  {
   "cell_type": "code",
   "execution_count": null,
   "metadata": {},
   "outputs": [],
   "source": [
    "def find_class_idx(label):\n",
    "\n",
    "    labels = network.classes\n",
    "    \n",
    "# Slicing through tennis ball classes in the pre-trained model\n",
    "\n",
    "def slice_tennis_ball_class(pred_probas):\n",
    "\n",
    "    index = find_class_idx('tennis ball')\n",
    "    prob = pred_probas[index].asscalar()"
   ]
  },
  {
   "cell_type": "markdown",
   "metadata": {},
   "source": [
    "### 4. Model Prediction "
   ]
  },
  {
   "cell_type": "code",
   "execution_count": null,
   "metadata": {},
   "outputs": [],
   "source": [
    "pred_proba_tennis_ball = slice_tennis_ball_class(pred_probas)"
   ]
  },
  {
   "cell_type": "markdown",
   "metadata": {},
   "source": [
    "### 5. Classify & Visualise Tennis Ball Image "
   ]
  },
  {
   "cell_type": "code",
   "execution_count": null,
   "metadata": {},
   "outputs": [],
   "source": [
    "class TennisBallClassifier():\n",
    "    def __init__(self):\n",
    "        self._network = load_pretrained_classification_network()\n",
    "        \n",
    "    def classify(self, filepath):\n",
    "        image = mx.image.imread(filepath)\n",
    "        transformed_image = gcv.data.transforms.presets.imagenet.transform_eval(image)\n",
    "\n",
    "        self._visualize(transformed_image)\n",
    "        prediction = self._network(transformed_image)\n",
    "        prediction = prediction[0]\n",
    "        probability = mx.nd.softmax(prediction)\n",
    "        rounded_probability = mx.nd.round(probability*100)/100\n",
    "        index = find_class_idx('tennis ball')\n",
    "        pred_proba = rounded_probability[index].asscalar()\n",
    "        print('{0:.2%} confidence that image is a tennis ball.'.format(pred_proba))\n",
    "        return pred_proba\n",
    "    \n",
    "    def _visualize(self, transformed_image):\n",
    "\n",
    "        chw_image = transformed_image[0].transpose((1,2,0))\n",
    "        chw_image = ((chw_image * 64) + 128).clip(0, 255).astype('uint8')\n",
    "        plt.imshow(chw_image.asnumpy())\n",
    "        \n",
    "classifier = TennisBallClassifier()"
   ]
  },
  {
   "cell_type": "markdown",
   "metadata": {},
   "source": [
    "### 6. Testing Model Performance "
   ]
  },
  {
   "cell_type": "code",
   "execution_count": null,
   "metadata": {},
   "outputs": [],
   "source": [
    "filepath = Path(M3_IMAGES, 'erik-mclean-D23_XPbsx-8-unsplash.jpg')\n",
    "pred_proba = classifier.classify(filepath)\n",
    "np.testing.assert_almost_equal(pred_proba, 2.0355723e-05, decimal=3)"
   ]
  },
  {
   "cell_type": "code",
   "execution_count": null,
   "metadata": {},
   "outputs": [],
   "source": [
    "filepath = Path(M3_IMAGES, 'marvin-ronsdorf-CA998Anw2Lg-unsplash.jpg')\n",
    "pred_proba = classifier.classify(filepath)\n",
    "np.testing.assert_almost_equal(pred_proba, 0.9988895, decimal=3)"
   ]
  }
 ],
 "metadata": {
  "kernelspec": {
   "display_name": "Python 3",
   "language": "python",
   "name": "python3"
  },
  "language_info": {
   "codemirror_mode": {
    "name": "ipython",
    "version": 3
   },
   "file_extension": ".py",
   "mimetype": "text/x-python",
   "name": "python",
   "nbconvert_exporter": "python",
   "pygments_lexer": "ipython3",
   "version": "3.7.0"
  }
 },
 "nbformat": 4,
 "nbformat_minor": 2
}
