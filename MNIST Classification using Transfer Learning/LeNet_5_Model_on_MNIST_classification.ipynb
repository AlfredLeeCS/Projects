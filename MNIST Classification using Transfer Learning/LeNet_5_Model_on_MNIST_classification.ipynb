{
  "nbformat": 4,
  "nbformat_minor": 0,
  "metadata": {
    "colab": {
      "name": "LeNet-5 Model on MNIST classification.ipynb",
      "provenance": [],
      "collapsed_sections": []
    },
    "kernelspec": {
      "name": "python3",
      "display_name": "Python 3"
    },
    "language_info": {
      "codemirror_mode": {
        "name": "ipython",
        "version": 3
      },
      "file_extension": ".py",
      "mimetype": "text/x-python",
      "name": "python",
      "nbconvert_exporter": "python",
      "pygments_lexer": "ipython3",
      "version": "3.7.0"
    },
    "accelerator": "GPU"
  },
  "cells": [
    {
      "cell_type": "markdown",
      "metadata": {
        "colab_type": "text",
        "id": "rlsTMtXG7FcU"
      },
      "source": [
        "Project Description : A CV approach to solve MNIST classification problem using MXNet .The CV task is trained using LeNet-5 model."
      ]
    },
    {
      "cell_type": "markdown",
      "metadata": {
        "colab_type": "text",
        "id": "iujB0qp97FcW"
      },
      "source": [
        "### 1. Import Dependencies Library"
      ]
    },
    {
      "cell_type": "code",
      "metadata": {
        "colab_type": "code",
        "id": "nH5WEqPc7FcX",
        "colab": {}
      },
      "source": [
        "from pathlib import Path\n",
        "from mxnet import gluon, metric, autograd, init, nd\n",
        "import os"
      ],
      "execution_count": 0,
      "outputs": []
    },
    {
      "cell_type": "markdown",
      "metadata": {
        "colab_type": "text",
        "id": "5_WiFNPI7Fcu"
      },
      "source": [
        "### 2. Prepare train & test dataloader"
      ]
    },
    {
      "cell_type": "markdown",
      "metadata": {
        "id": "rqAOx50ORLu1",
        "colab_type": "text"
      },
      "source": [
        "##### To do transformation and normalization on the images data"
      ]
    },
    {
      "cell_type": "code",
      "metadata": {
        "colab_type": "code",
        "id": "zJJPs8WH7Fcv",
        "outputId": "11bba787-4207-4018-aa25-7efd053bfc86",
        "colab": {
          "base_uri": "https://localhost:8080/",
          "height": 107
        }
      },
      "source": [
        "import os\n",
        "from pathlib import Path\n",
        "from mxnet.gluon import nn\n",
        "from mxnet.gluon.data.vision import datasets, transforms\n",
        "\n",
        "def get_mnist_data(batch=128):\n",
        "\n",
        "    mean, std = (0.13,),(0.31,)\n",
        "    transform_fn = transforms.Compose([transforms.ToTensor(),\n",
        "                                      transforms.Normalize(mean, std)])\n",
        "    \n",
        "    train_data = gluon.data.vision.datasets.MNIST(train=True)\n",
        "    val_data = gluon.data.vision.datasets.MNIST(train=False)\n",
        "    \n",
        "    train_data = train_data.transform_first(transform_fn)\n",
        "    val_data = val_data.transform_first(transform_fn)\n",
        "    \n",
        "    train_dataloader=gluon.data.DataLoader(train_data,\n",
        "                                           batch_size = 128,\n",
        "                                           shuffle=True)\n",
        "\n",
        "    validation_dataloader=gluon.data.DataLoader(val_data,\n",
        "                                                batch_size = 128,\n",
        "                                                shuffle=False)\n",
        "    \n",
        "    return train_dataloader, validation_dataloader\n",
        "\n",
        "t, v = get_mnist_data()\n",
        "\n",
        "\n",
        "# Do forward iteration to get the respective images data and label\n",
        "d, l = next(iter(t))"
      ],
      "execution_count": 3,
      "outputs": [
        {
          "output_type": "stream",
          "text": [
            "Downloading /root/.mxnet/datasets/mnist/train-images-idx3-ubyte.gz from https://apache-mxnet.s3-accelerate.dualstack.amazonaws.com/gluon/dataset/mnist/train-images-idx3-ubyte.gz...\n",
            "Downloading /root/.mxnet/datasets/mnist/train-labels-idx1-ubyte.gz from https://apache-mxnet.s3-accelerate.dualstack.amazonaws.com/gluon/dataset/mnist/train-labels-idx1-ubyte.gz...\n",
            "Downloading /root/.mxnet/datasets/mnist/t10k-images-idx3-ubyte.gz from https://apache-mxnet.s3-accelerate.dualstack.amazonaws.com/gluon/dataset/mnist/t10k-images-idx3-ubyte.gz...\n",
            "Downloading /root/.mxnet/datasets/mnist/t10k-labels-idx1-ubyte.gz from https://apache-mxnet.s3-accelerate.dualstack.amazonaws.com/gluon/dataset/mnist/t10k-labels-idx1-ubyte.gz...\n"
          ],
          "name": "stdout"
        }
      ]
    },
    {
      "cell_type": "markdown",
      "metadata": {
        "colab_type": "text",
        "id": "xCHKo8wO7Fcy"
      },
      "source": [
        "### 3. Model Training : Write the training loop"
      ]
    },
    {
      "cell_type": "code",
      "metadata": {
        "colab_type": "code",
        "id": "HFqPaeZQ7Fcz",
        "colab": {}
      },
      "source": [
        "from time import time\n",
        "\n",
        "# Define Loss function\n",
        "loss_fn = gluon.loss.SoftmaxCrossEntropyLoss()\n",
        "\n",
        "def train(network, training_dataloader, batch_size, epochs):\n",
        "    \n",
        "    # Define training metrics\n",
        "    train_acc = metric.Accuracy()\n",
        "    \n",
        "    #Define parameters needed for training : Optimizer & Learning Rate\n",
        "    trainer = gluon.Trainer(network.collect_params(),'adam',{'learning_rate':0.002})\n",
        "\n",
        "    # Write a training loop to feed forward, do back-propagation \n",
        "    # with the error identified to update the respective weights\n",
        "    for epoch in range(epochs):\n",
        "        train_loss = 0\n",
        "        tic = time()\n",
        "        for data, label in training_dataloader:\n",
        "            with autograd.record():\n",
        "                output = network(data)\n",
        "                loss = loss_fn(output,label)\n",
        "            loss.backward()\n",
        "            trainer.step(batch_size)\n",
        "            \n",
        "            train_loss += loss.asnumpy().mean()\n",
        "            train_acc.update(label,output)\n",
        "        \n",
        "        # Design to print epoch, loss, accuracy for every iteration\n",
        "        print(\"Epoch(%d) Loss:%.3f Acc:%.3f \"%(\n",
        "            epoch, train_loss/len(training_dataloader),\n",
        "            train_acc.get()[1]))\n",
        "\n",
        "    return network, train_acc.get()[1]"
      ],
      "execution_count": 0,
      "outputs": []
    },
    {
      "cell_type": "markdown",
      "metadata": {
        "colab_type": "text",
        "id": "jhcqw3hM7Fc6"
      },
      "source": [
        "##### Defining the model (neural network structure) & start the training process: "
      ]
    },
    {
      "cell_type": "code",
      "metadata": {
        "colab_type": "code",
        "id": "8utjIhuM7Fc7",
        "colab": {
          "base_uri": "https://localhost:8080/",
          "height": 104
        },
        "outputId": "e14fa12e-9d8a-473d-dfde-4da24ee7ad35"
      },
      "source": [
        "net = gluon.nn.Sequential()\n",
        "\n",
        "# Add the hidden layers inside the Convolutional Neural Network with activation function\n",
        "net.add(gluon.nn.Conv2D(channels=6, kernel_size=5, activation='relu'),\n",
        "        gluon.nn.MaxPool2D(pool_size=2, strides=2),\n",
        "        gluon.nn.Conv2D(channels=16, kernel_size=3, activation='relu'),\n",
        "        gluon.nn.MaxPool2D(pool_size=2, strides=2),\n",
        "        gluon.nn.Flatten(),\n",
        "        gluon.nn.Dense(120, activation=\"relu\"),\n",
        "        gluon.nn.Dense(84, activation=\"relu\"),\n",
        "        # 10 output class\n",
        "        gluon.nn.Dense(10))\n",
        "\n",
        "# Model would need a initalizer\n",
        "# Xavier is good and popular initializer\n",
        "net.initialize(init=init.Xavier())\n",
        "\n",
        "\n",
        "# Model training\n",
        "# Training Step : \n",
        "# Batch Size : 128 ; Training Epochs : 5\n",
        "\n",
        "n, ta = train(net, t, 128, 5)\n",
        "d, l = next(iter(v))\n",
        "p = (n(d).argmax(axis=1))"
      ],
      "execution_count": 10,
      "outputs": [
        {
          "output_type": "stream",
          "text": [
            "Epoch(0) Loss:0.197 Acc:0.938 \n",
            "Epoch(1) Loss:0.063 Acc:0.959 \n",
            "Epoch(2) Loss:0.043 Acc:0.968 \n",
            "Epoch(3) Loss:0.034 Acc:0.973 \n",
            "Epoch(4) Loss:0.028 Acc:0.977 \n"
          ],
          "name": "stdout"
        }
      ]
    },
    {
      "cell_type": "markdown",
      "metadata": {
        "colab_type": "text",
        "id": "PtSiOota7Fc_"
      },
      "source": [
        "### 4. Model Validation "
      ]
    },
    {
      "cell_type": "code",
      "metadata": {
        "colab_type": "code",
        "id": "YSav3UJY7Fc_",
        "colab": {}
      },
      "source": [
        "def validate(network, validation_dataloader):\n",
        "    \"\"\"\n",
        "    Should compute the accuracy of the network on the validation set.\n",
        "    \n",
        "    :param network: initialized gluon network to be trained\n",
        "    :type network: gluon.Block\n",
        "    \n",
        "    :param validation_dataloader: the training DataLoader provides batches for data for every iteration\n",
        "    :type validation_dataloader: gluon.data.DataLoader\n",
        "    \n",
        "    :return: validation accuracy\n",
        "    :rtype: float\n",
        "    \"\"\"\n",
        "    valid_acc = metric.Accuracy()\n",
        "    for data, label in validation_dataloader:\n",
        "        output = network(data)\n",
        "        valid_acc.update(label, output)\n",
        "    \n",
        "    print(\"Validation Acc: %.3f \"%(valid_acc.get()[1]))\n",
        "\n",
        "#     raise NotImplementedError()\n",
        "    \n",
        "    return valid_acc.get()[1]"
      ],
      "execution_count": 0,
      "outputs": []
    },
    {
      "cell_type": "markdown",
      "metadata": {
        "colab_type": "text",
        "id": "ytKWbDxe7FdC"
      },
      "source": [
        "##### Complete with validation step to check on model performance"
      ]
    },
    {
      "cell_type": "code",
      "metadata": {
        "colab_type": "code",
        "id": "reB7vHTk7FdD",
        "colab": {
          "base_uri": "https://localhost:8080/",
          "height": 52
        },
        "outputId": "e4d1f001-deed-4872-850d-5198bc963b1e"
      },
      "source": [
        "validate(n, v) "
      ],
      "execution_count": 12,
      "outputs": [
        {
          "output_type": "stream",
          "text": [
            "Validation Acc: 0.989 \n"
          ],
          "name": "stdout"
        },
        {
          "output_type": "execute_result",
          "data": {
            "text/plain": [
              "0.989"
            ]
          },
          "metadata": {
            "tags": []
          },
          "execution_count": 12
        }
      ]
    },
    {
      "cell_type": "code",
      "metadata": {
        "colab_type": "code",
        "id": "7u_qXmkiPRpF",
        "colab": {}
      },
      "source": [
        "# Good to go with 98.9% validation accuracy"
      ],
      "execution_count": 0,
      "outputs": []
    }
  ]
}